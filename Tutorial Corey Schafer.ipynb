{
 "cells": [
  {
   "cell_type": "code",
   "execution_count": 1,
   "metadata": {},
   "outputs": [],
   "source": [
    "#Tutorial by Corey Schafer\n",
    "\n",
    "## How to enter text\n",
    "\n",
    "    "
   ]
  },
  {
   "cell_type": "code",
   "execution_count": 2,
   "metadata": {},
   "outputs": [],
   "source": [
    "name = 'John'"
   ]
  },
  {
   "cell_type": "code",
   "execution_count": 3,
   "metadata": {},
   "outputs": [
    {
     "data": {
      "text/plain": [
       "'John'"
      ]
     },
     "execution_count": 3,
     "metadata": {},
     "output_type": "execute_result"
    }
   ],
   "source": [
    "name\n"
   ]
  },
  {
   "cell_type": "code",
   "execution_count": 4,
   "metadata": {},
   "outputs": [
    {
     "name": "stdout",
     "output_type": "stream",
     "text": [
      "Package                            Version   \r\n",
      "---------------------------------- ----------\r\n",
      "alabaster                          0.7.12    \r\n",
      "anaconda-client                    1.7.2     \r\n",
      "anaconda-navigator                 1.9.7     \r\n",
      "anaconda-project                   0.8.3     \r\n",
      "asn1crypto                         0.24.0    \r\n",
      "astroid                            2.2.5     \r\n",
      "astropy                            3.2.1     \r\n",
      "atomicwrites                       1.3.0     \r\n",
      "attrs                              19.1.0    \r\n",
      "Babel                              2.7.0     \r\n",
      "backcall                           0.1.0     \r\n",
      "backports.functools-lru-cache      1.5       \r\n",
      "backports.os                       0.1.1     \r\n",
      "backports.shutil-get-terminal-size 1.0.0     \r\n",
      "backports.tempfile                 1.0       \r\n",
      "backports.weakref                  1.0.post1 \r\n",
      "beautifulsoup4                     4.7.1     \r\n",
      "bitarray                           0.9.3     \r\n",
      "bkcharts                           0.2       \r\n",
      "bleach                             3.1.0     \r\n",
      "bokeh                              1.2.0     \r\n",
      "boto                               2.49.0    \r\n",
      "Bottleneck                         1.2.1     \r\n",
      "certifi                            2019.6.16 \r\n",
      "cffi                               1.12.3    \r\n",
      "chardet                            3.0.4     \r\n",
      "Click                              7.0       \r\n",
      "cloudpickle                        1.2.1     \r\n",
      "clyent                             1.2.2     \r\n",
      "colorama                           0.4.1     \r\n",
      "conda                              4.7.10    \r\n",
      "conda-build                        3.18.8    \r\n",
      "conda-package-handling             1.3.11    \r\n",
      "conda-verify                       3.4.2     \r\n",
      "contextlib2                        0.5.5     \r\n",
      "cryptography                       2.7       \r\n",
      "cycler                             0.10.0    \r\n",
      "Cython                             0.29.12   \r\n",
      "cytoolz                            0.10.0    \r\n",
      "dask                               2.1.0     \r\n",
      "decorator                          4.4.0     \r\n",
      "defusedxml                         0.6.0     \r\n",
      "distributed                        2.1.0     \r\n",
      "Django                             2.2.5     \r\n",
      "docutils                           0.14      \r\n",
      "EasyProcess                        0.2.7     \r\n",
      "entrypoints                        0.3       \r\n",
      "et-xmlfile                         1.0.1     \r\n",
      "fastcache                          1.1.0     \r\n",
      "filelock                           3.0.12    \r\n",
      "Flask                              1.1.1     \r\n",
      "future                             0.17.1    \r\n",
      "gevent                             1.4.0     \r\n",
      "glob2                              0.7       \r\n",
      "gmpy2                              2.0.8     \r\n",
      "greenlet                           0.4.15    \r\n",
      "h5py                               2.9.0     \r\n",
      "heapdict                           1.0.0     \r\n",
      "html5lib                           1.0.1     \r\n",
      "idna                               2.8       \r\n",
      "imageio                            2.5.0     \r\n",
      "imagesize                          1.1.0     \r\n",
      "importlib-metadata                 0.17      \r\n",
      "ipykernel                          5.1.1     \r\n",
      "ipython                            7.6.1     \r\n",
      "ipython-genutils                   0.2.0     \r\n",
      "ipywidgets                         7.5.0     \r\n",
      "isort                              4.3.21    \r\n",
      "itsdangerous                       1.1.0     \r\n",
      "jdcal                              1.4.1     \r\n",
      "jedi                               0.13.3    \r\n",
      "jeepney                            0.4       \r\n",
      "Jinja2                             2.10.1    \r\n",
      "joblib                             0.13.2    \r\n",
      "json5                              0.8.4     \r\n",
      "jsonschema                         3.0.1     \r\n",
      "jupyter                            1.0.0     \r\n",
      "jupyter-client                     5.3.1     \r\n",
      "jupyter-console                    6.0.0     \r\n",
      "jupyter-core                       4.5.0     \r\n",
      "jupyterlab                         1.0.2     \r\n",
      "jupyterlab-server                  1.0.0     \r\n",
      "keyring                            18.0.0    \r\n",
      "kiwisolver                         1.1.0     \r\n",
      "lazy-object-proxy                  1.4.1     \r\n",
      "libarchive-c                       2.8       \r\n",
      "lief                               0.9.0     \r\n",
      "llvmlite                           0.29.0    \r\n",
      "locket                             0.2.0     \r\n",
      "lxml                               4.3.4     \r\n",
      "MarkupSafe                         1.1.1     \r\n",
      "matplotlib                         3.1.0     \r\n",
      "mccabe                             0.6.1     \r\n",
      "mistune                            0.8.4     \r\n",
      "mkl-fft                            1.0.12    \r\n",
      "mkl-random                         1.0.2     \r\n",
      "mkl-service                        2.0.2     \r\n",
      "mock                               3.0.5     \r\n",
      "more-itertools                     7.0.0     \r\n",
      "mpmath                             1.1.0     \r\n",
      "msgpack                            0.6.1     \r\n",
      "multipledispatch                   0.6.0     \r\n",
      "navigator-updater                  0.2.1     \r\n",
      "nbconvert                          5.5.0     \r\n",
      "nbformat                           4.4.0     \r\n",
      "networkx                           2.3       \r\n",
      "nltk                               3.4.4     \r\n",
      "nose                               1.3.7     \r\n",
      "notebook                           6.0.0     \r\n",
      "numba                              0.44.1    \r\n",
      "numexpr                            2.6.9     \r\n",
      "numpy                              1.16.4    \r\n",
      "numpydoc                           0.9.1     \r\n",
      "olefile                            0.46      \r\n",
      "openpyxl                           2.6.2     \r\n",
      "packaging                          19.0      \r\n",
      "pandas                             0.24.2    \r\n",
      "pandocfilters                      1.4.2     \r\n",
      "parso                              0.5.0     \r\n",
      "partd                              1.0.0     \r\n",
      "path.py                            12.0.1    \r\n",
      "pathlib2                           2.3.4     \r\n",
      "patsy                              0.5.1     \r\n",
      "pep8                               1.7.1     \r\n",
      "pexpect                            4.7.0     \r\n",
      "pickleshare                        0.7.5     \r\n",
      "Pillow                             6.1.0     \r\n",
      "pip                                19.1.1    \r\n",
      "pipenv                             2018.11.26\r\n",
      "pkginfo                            1.5.0.1   \r\n",
      "pluggy                             0.12.0    \r\n",
      "ply                                3.11      \r\n",
      "prometheus-client                  0.7.1     \r\n",
      "prompt-toolkit                     2.0.9     \r\n",
      "psutil                             5.6.3     \r\n",
      "ptyprocess                         0.6.0     \r\n",
      "py                                 1.8.0     \r\n",
      "pycodestyle                        2.5.0     \r\n",
      "pycosat                            0.6.3     \r\n",
      "pycparser                          2.19      \r\n",
      "pycrypto                           2.6.1     \r\n",
      "pycurl                             7.43.0.3  \r\n",
      "pyflakes                           2.1.1     \r\n",
      "Pygments                           2.4.2     \r\n",
      "pylint                             2.3.1     \r\n",
      "pyodbc                             4.0.26    \r\n",
      "pyOpenSSL                          19.0.0    \r\n",
      "pyparsing                          2.4.0     \r\n",
      "pyrsistent                         0.14.11   \r\n",
      "pyscreenshot                       0.5.1     \r\n",
      "PySocks                            1.7.0     \r\n",
      "pytest                             5.0.1     \r\n",
      "pytest-arraydiff                   0.3       \r\n",
      "pytest-astropy                     0.5.0     \r\n",
      "pytest-doctestplus                 0.3.0     \r\n",
      "pytest-openfiles                   0.3.2     \r\n",
      "pytest-remotedata                  0.3.1     \r\n",
      "python-dateutil                    2.8.0     \r\n",
      "pytz                               2019.1    \r\n",
      "PyWavelets                         1.0.3     \r\n",
      "PyYAML                             5.1.1     \r\n",
      "pyzmq                              18.0.0    \r\n",
      "QtAwesome                          0.5.7     \r\n",
      "qtconsole                          4.5.1     \r\n",
      "QtPy                               1.8.0     \r\n",
      "requests                           2.22.0    \r\n",
      "rope                               0.14.0    \r\n",
      "ruamel-yaml                        0.15.46   \r\n",
      "scikit-image                       0.15.0    \r\n",
      "scikit-learn                       0.21.2    \r\n",
      "scipy                              1.3.0     \r\n",
      "seaborn                            0.9.0     \r\n",
      "SecretStorage                      3.1.1     \r\n",
      "Send2Trash                         1.5.0     \r\n",
      "setuptools                         41.0.1    \r\n",
      "simplegeneric                      0.8.1     \r\n",
      "singledispatch                     3.4.0.3   \r\n",
      "six                                1.12.0    \r\n",
      "snowballstemmer                    1.9.0     \r\n",
      "sortedcollections                  1.1.2     \r\n",
      "sortedcontainers                   2.1.0     \r\n",
      "soupsieve                          1.8       \r\n",
      "Sphinx                             2.1.2     \r\n",
      "sphinxcontrib-applehelp            1.0.1     \r\n",
      "sphinxcontrib-devhelp              1.0.1     \r\n",
      "sphinxcontrib-htmlhelp             1.0.2     \r\n",
      "sphinxcontrib-jsmath               1.0.1     \r\n",
      "sphinxcontrib-qthelp               1.0.2     \r\n",
      "sphinxcontrib-serializinghtml      1.1.3     \r\n",
      "sphinxcontrib-websupport           1.1.2     \r\n",
      "spyder                             3.3.6     \r\n",
      "spyder-kernels                     0.5.1     \r\n",
      "SQLAlchemy                         1.3.5     \r\n",
      "sqlparse                           0.3.0     \r\n",
      "statsmodels                        0.10.0    \r\n",
      "sympy                              1.4       \r\n",
      "tables                             3.5.2     \r\n",
      "tblib                              1.4.0     \r\n",
      "terminado                          0.8.2     \r\n",
      "testpath                           0.4.2     \r\n",
      "toolz                              0.10.0    \r\n",
      "tornado                            6.0.3     \r\n",
      "tqdm                               4.32.1    \r\n",
      "traitlets                          4.3.2     \r\n",
      "unicodecsv                         0.14.1    \r\n",
      "urllib3                            1.24.2    \r\n",
      "virtualenv                         16.7.2    \r\n",
      "virtualenv-clone                   0.5.3     \r\n",
      "wcwidth                            0.1.7     \r\n",
      "webencodings                       0.5.1     \r\n",
      "Werkzeug                           0.15.4    \r\n",
      "wheel                              0.33.4    \r\n",
      "widgetsnbextension                 3.5.0     \r\n",
      "wrapt                              1.11.2    \r\n",
      "wurlitzer                          1.0.2     \r\n",
      "xlrd                               1.2.0     \r\n",
      "XlsxWriter                         1.1.8     \r\n",
      "xlwt                               1.3.0     \r\n",
      "zict                               1.0.0     \r\n",
      "zipp                               0.5.1     \r\n"
     ]
    }
   ],
   "source": [
    "!pip list"
   ]
  },
  {
   "cell_type": "code",
   "execution_count": 5,
   "metadata": {},
   "outputs": [
    {
     "data": {
      "application/json": {
       "cell": {
        "!": "OSMagics",
        "HTML": "Other",
        "SVG": "Other",
        "bash": "Other",
        "capture": "ExecutionMagics",
        "debug": "ExecutionMagics",
        "file": "Other",
        "html": "DisplayMagics",
        "javascript": "DisplayMagics",
        "js": "DisplayMagics",
        "latex": "DisplayMagics",
        "markdown": "DisplayMagics",
        "perl": "Other",
        "prun": "ExecutionMagics",
        "pypy": "Other",
        "python": "Other",
        "python2": "Other",
        "python3": "Other",
        "ruby": "Other",
        "script": "ScriptMagics",
        "sh": "Other",
        "svg": "DisplayMagics",
        "sx": "OSMagics",
        "system": "OSMagics",
        "time": "ExecutionMagics",
        "timeit": "ExecutionMagics",
        "writefile": "OSMagics"
       },
       "line": {
        "alias": "OSMagics",
        "alias_magic": "BasicMagics",
        "autoawait": "AsyncMagics",
        "autocall": "AutoMagics",
        "automagic": "AutoMagics",
        "autosave": "KernelMagics",
        "bookmark": "OSMagics",
        "cat": "Other",
        "cd": "OSMagics",
        "clear": "KernelMagics",
        "colors": "BasicMagics",
        "conda": "PackagingMagics",
        "config": "ConfigMagics",
        "connect_info": "KernelMagics",
        "cp": "Other",
        "debug": "ExecutionMagics",
        "dhist": "OSMagics",
        "dirs": "OSMagics",
        "doctest_mode": "BasicMagics",
        "ed": "Other",
        "edit": "KernelMagics",
        "env": "OSMagics",
        "gui": "BasicMagics",
        "hist": "Other",
        "history": "HistoryMagics",
        "killbgscripts": "ScriptMagics",
        "ldir": "Other",
        "less": "KernelMagics",
        "lf": "Other",
        "lk": "Other",
        "ll": "Other",
        "load": "CodeMagics",
        "load_ext": "ExtensionMagics",
        "loadpy": "CodeMagics",
        "logoff": "LoggingMagics",
        "logon": "LoggingMagics",
        "logstart": "LoggingMagics",
        "logstate": "LoggingMagics",
        "logstop": "LoggingMagics",
        "ls": "Other",
        "lsmagic": "BasicMagics",
        "lx": "Other",
        "macro": "ExecutionMagics",
        "magic": "BasicMagics",
        "man": "KernelMagics",
        "matplotlib": "PylabMagics",
        "mkdir": "Other",
        "more": "KernelMagics",
        "mv": "Other",
        "notebook": "BasicMagics",
        "page": "BasicMagics",
        "pastebin": "CodeMagics",
        "pdb": "ExecutionMagics",
        "pdef": "NamespaceMagics",
        "pdoc": "NamespaceMagics",
        "pfile": "NamespaceMagics",
        "pinfo": "NamespaceMagics",
        "pinfo2": "NamespaceMagics",
        "pip": "PackagingMagics",
        "popd": "OSMagics",
        "pprint": "BasicMagics",
        "precision": "BasicMagics",
        "prun": "ExecutionMagics",
        "psearch": "NamespaceMagics",
        "psource": "NamespaceMagics",
        "pushd": "OSMagics",
        "pwd": "OSMagics",
        "pycat": "OSMagics",
        "pylab": "PylabMagics",
        "qtconsole": "KernelMagics",
        "quickref": "BasicMagics",
        "recall": "HistoryMagics",
        "rehashx": "OSMagics",
        "reload_ext": "ExtensionMagics",
        "rep": "Other",
        "rerun": "HistoryMagics",
        "reset": "NamespaceMagics",
        "reset_selective": "NamespaceMagics",
        "rm": "Other",
        "rmdir": "Other",
        "run": "ExecutionMagics",
        "save": "CodeMagics",
        "sc": "OSMagics",
        "set_env": "OSMagics",
        "store": "StoreMagics",
        "sx": "OSMagics",
        "system": "OSMagics",
        "tb": "ExecutionMagics",
        "time": "ExecutionMagics",
        "timeit": "ExecutionMagics",
        "unalias": "OSMagics",
        "unload_ext": "ExtensionMagics",
        "who": "NamespaceMagics",
        "who_ls": "NamespaceMagics",
        "whos": "NamespaceMagics",
        "xdel": "NamespaceMagics",
        "xmode": "BasicMagics"
       }
      },
      "text/plain": [
       "Available line magics:\n",
       "%alias  %alias_magic  %autoawait  %autocall  %automagic  %autosave  %bookmark  %cat  %cd  %clear  %colors  %conda  %config  %connect_info  %cp  %debug  %dhist  %dirs  %doctest_mode  %ed  %edit  %env  %gui  %hist  %history  %killbgscripts  %ldir  %less  %lf  %lk  %ll  %load  %load_ext  %loadpy  %logoff  %logon  %logstart  %logstate  %logstop  %ls  %lsmagic  %lx  %macro  %magic  %man  %matplotlib  %mkdir  %more  %mv  %notebook  %page  %pastebin  %pdb  %pdef  %pdoc  %pfile  %pinfo  %pinfo2  %pip  %popd  %pprint  %precision  %prun  %psearch  %psource  %pushd  %pwd  %pycat  %pylab  %qtconsole  %quickref  %recall  %rehashx  %reload_ext  %rep  %rerun  %reset  %reset_selective  %rm  %rmdir  %run  %save  %sc  %set_env  %store  %sx  %system  %tb  %time  %timeit  %unalias  %unload_ext  %who  %who_ls  %whos  %xdel  %xmode\n",
       "\n",
       "Available cell magics:\n",
       "%%!  %%HTML  %%SVG  %%bash  %%capture  %%debug  %%file  %%html  %%javascript  %%js  %%latex  %%markdown  %%perl  %%prun  %%pypy  %%python  %%python2  %%python3  %%ruby  %%script  %%sh  %%svg  %%sx  %%system  %%time  %%timeit  %%writefile\n",
       "\n",
       "Automagic is ON, % prefix IS NOT needed for line magics."
      ]
     },
     "execution_count": 5,
     "metadata": {},
     "output_type": "execute_result"
    }
   ],
   "source": [
    "%lsmagic"
   ]
  },
  {
   "cell_type": "code",
   "execution_count": 6,
   "metadata": {},
   "outputs": [
    {
     "data": {
      "text/plain": [
       "'/home/cwl/notebooks'"
      ]
     },
     "execution_count": 6,
     "metadata": {},
     "output_type": "execute_result"
    }
   ],
   "source": [
    "%pwd\n"
   ]
  },
  {
   "cell_type": "code",
   "execution_count": 7,
   "metadata": {},
   "outputs": [
    {
     "name": "stdout",
     "output_type": "stream",
     "text": [
      "total 16\r\n",
      "drwxr-xr-x  3 cwl cwl 4096 mrt  3 22:33  \u001b[0m\u001b[01;34m.\u001b[0m/\r\n",
      "drwxr-xr-x 98 cwl cwl 4096 mrt  3 22:19  \u001b[01;34m..\u001b[0m/\r\n",
      "drwxr-xr-x  2 cwl cwl 4096 mrt  3 22:20  \u001b[01;34m.ipynb_checkpoints\u001b[0m/\r\n",
      "-rw-r--r--  1 cwl cwl 1934 mrt  3 22:33 'Tutorial Corey Schafer.ipynb'\r\n"
     ]
    }
   ],
   "source": [
    "%ls -la\n"
   ]
  },
  {
   "cell_type": "code",
   "execution_count": 8,
   "metadata": {},
   "outputs": [],
   "source": [
    "%matplotlib inline"
   ]
  },
  {
   "cell_type": "code",
   "execution_count": 20,
   "metadata": {},
   "outputs": [
    {
     "data": {
      "image/png": "[encoded data removed]",
      "text/plain": [
       "<Figure size 432x288 with 1 Axes>"
      ]
     },
     "metadata": {
      "needs_background": "light"
     },
     "output_type": "display_data"
    }
   ],
   "source": [
    "import numpy as np\n",
    "import matplotlib.pyplot as plt\n",
    "\n",
    "N=50\n",
    "x = np.random.rand(N)\n",
    "y = np.random.rand(N)\n",
    "colors = np.random.rand(N)\n",
    "area = np.pi * (50 * np.random.rand(N)**2) #0 to 15 point radiuses\n",
    "\n",
    "\n",
    "plt.scatter(x,y, s=area, c=colors, alpha=0.5)\n",
    "plt.show()"
   ]
  },
  {
   "cell_type": "code",
   "execution_count": 23,
   "metadata": {},
   "outputs": [
    {
     "data": {
      "text/html": [
       "<iframe width=\"560\" height=\"315\" src=\"https://www.youtube.com/embed/YJC6ldI3hWk\" frameborder=\"0\" allowfullscreen></iframe>\n"
      ],
      "text/plain": [
       "<IPython.core.display.HTML object>"
      ]
     },
     "metadata": {},
     "output_type": "display_data"
    }
   ],
   "source": [
    "%%HTML\n",
    "<iframe width=\"560\" height=\"315\" src=\"https://www.youtube.com/embed/YJC6ldI3hWk\" frameborder=\"0\" allowfullscreen></iframe>"
   ]
  },
  {
   "cell_type": "code",
   "execution_count": 25,
   "metadata": {},
   "outputs": [
    {
     "name": "stdout",
     "output_type": "stream",
     "text": [
      "110 µs ± 2.37 µs per loop (mean ± std. dev. of 7 runs, 10000 loops each)\n"
     ]
    }
   ],
   "source": [
    "%%timeit\n",
    "square_evens = [n*n for n in range(1000)]"
   ]
  },
  {
   "cell_type": "code",
   "execution_count": 27,
   "metadata": {},
   "outputs": [
    {
     "data": {
      "text/html": [
       "<div>\n",
       "<style scoped>\n",
       "    .dataframe tbody tr th:only-of-type {\n",
       "        vertical-align: middle;\n",
       "    }\n",
       "\n",
       "    .dataframe tbody tr th {\n",
       "        vertical-align: top;\n",
       "    }\n",
       "\n",
       "    .dataframe thead th {\n",
       "        text-align: right;\n",
       "    }\n",
       "</style>\n",
       "<table border=\"1\" class=\"dataframe\">\n",
       "  <thead>\n",
       "    <tr style=\"text-align: right;\">\n",
       "      <th></th>\n",
       "      <th>0</th>\n",
       "      <th>1</th>\n",
       "      <th>2</th>\n",
       "      <th>3</th>\n",
       "      <th>4</th>\n",
       "    </tr>\n",
       "  </thead>\n",
       "  <tbody>\n",
       "    <tr>\n",
       "      <th>0</th>\n",
       "      <td>0.389474</td>\n",
       "      <td>-1.117259</td>\n",
       "      <td>0.137560</td>\n",
       "      <td>1.253029</td>\n",
       "      <td>0.137325</td>\n",
       "    </tr>\n",
       "    <tr>\n",
       "      <th>1</th>\n",
       "      <td>0.773199</td>\n",
       "      <td>1.401897</td>\n",
       "      <td>-0.407387</td>\n",
       "      <td>1.607676</td>\n",
       "      <td>1.328670</td>\n",
       "    </tr>\n",
       "    <tr>\n",
       "      <th>2</th>\n",
       "      <td>0.414680</td>\n",
       "      <td>0.441192</td>\n",
       "      <td>-1.294853</td>\n",
       "      <td>0.082960</td>\n",
       "      <td>0.866231</td>\n",
       "    </tr>\n",
       "    <tr>\n",
       "      <th>3</th>\n",
       "      <td>1.269032</td>\n",
       "      <td>0.187740</td>\n",
       "      <td>-0.868256</td>\n",
       "      <td>1.076069</td>\n",
       "      <td>-1.370418</td>\n",
       "    </tr>\n",
       "    <tr>\n",
       "      <th>4</th>\n",
       "      <td>0.574705</td>\n",
       "      <td>-1.277780</td>\n",
       "      <td>-1.540444</td>\n",
       "      <td>0.398564</td>\n",
       "      <td>0.450578</td>\n",
       "    </tr>\n",
       "    <tr>\n",
       "      <th>5</th>\n",
       "      <td>0.058875</td>\n",
       "      <td>0.268594</td>\n",
       "      <td>-0.492009</td>\n",
       "      <td>0.803117</td>\n",
       "      <td>1.243256</td>\n",
       "    </tr>\n",
       "  </tbody>\n",
       "</table>\n",
       "</div>"
      ],
      "text/plain": [
       "          0         1         2         3         4\n",
       "0  0.389474 -1.117259  0.137560  1.253029  0.137325\n",
       "1  0.773199  1.401897 -0.407387  1.607676  1.328670\n",
       "2  0.414680  0.441192 -1.294853  0.082960  0.866231\n",
       "3  1.269032  0.187740 -0.868256  1.076069 -1.370418\n",
       "4  0.574705 -1.277780 -1.540444  0.398564  0.450578\n",
       "5  0.058875  0.268594 -0.492009  0.803117  1.243256"
      ]
     },
     "execution_count": 27,
     "metadata": {},
     "output_type": "execute_result"
    }
   ],
   "source": [
    "import pandas as pd\n",
    "import numpy as np\n",
    "\n",
    "df = pd.DataFrame(np.random.randn(10,5))\n",
    "df.head(6)\n"
   ]
  }
 ],
 "metadata": {
  "kernelspec": {
   "display_name": "Python 3",
   "language": "python",
   "name": "python3"
  },
  "language_info": {
   "codemirror_mode": {
    "name": "ipython",
    "version": 3
   },
   "file_extension": ".py",
   "mimetype": "text/x-python",
   "name": "python",
   "nbconvert_exporter": "python",
   "pygments_lexer": "ipython3",
   "version": "3.7.3"
  }
 },
 "nbformat": 4,
 "nbformat_minor": 2
}
