{
 "cells": [
  {
   "cell_type": "markdown",
   "id": "8ce2022a-f9e0-4ba4-a0ec-e2c3d65ff6e0",
   "metadata": {},
   "source": [
    "## Titel Notebook "
   ]
  },
  {
   "cell_type": "code",
   "execution_count": 2,
   "id": "b023d1cb-1c77-4ec3-b8c3-03ada7886a28",
   "metadata": {
    "tags": []
   },
   "outputs": [],
   "source": [
    "import numpy as np\n",
    "import pandas as pd\n",
    "import matplotlib.pyplot as plt"
   ]
  },
  {
   "cell_type": "code",
   "execution_count": 2,
   "id": "22e43519-3e1b-418c-9c85-9f6f944da809",
   "metadata": {},
   "outputs": [],
   "source": [
    "#Activate autocompletion by pressing tab-key\n",
    "%config Completer.use_jedi = False"
   ]
  }
 ],
 "metadata": {
  "kernelspec": {
   "display_name": "Python 3 (ipykernel)",
   "language": "python",
   "name": "python3"
  },
  "language_info": {
   "codemirror_mode": {
    "name": "ipython",
    "version": 3
   },
   "file_extension": ".py",
   "mimetype": "text/x-python",
   "name": "python",
   "nbconvert_exporter": "python",
   "pygments_lexer": "ipython3",
   "version": "3.9.13"
  }
 },
 "nbformat": 4,
 "nbformat_minor": 5
}
